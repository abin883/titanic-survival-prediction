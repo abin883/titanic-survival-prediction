{
 "cells": [
  {
   "cell_type": "markdown",
   "id": "8e5b1599-5294-40f8-9feb-6d18cdf2f8ec",
   "metadata": {},
   "source": [
    "# Exploratory Data Analysis , Feature Engineering & Model Building using Titanic Dataset"
   ]
  },
  {
   "cell_type": "markdown",
   "id": "5c28bd4c-9952-4b8c-92b2-7405c3079c76",
   "metadata": {},
   "source": [
    "### Data Loading and Understanding \n",
    "* At first we load the titanic dataset and check its structure \n",
    "* Understand the features and target variables"
   ]
  },
  {
   "cell_type": "code",
   "execution_count": 5,
   "id": "f901278c-ddf7-4eb3-bfe5-a671a03df514",
   "metadata": {},
   "outputs": [],
   "source": [
    "# importing the necessary libraries\n",
    "import pandas as pd # for handling datasets\n",
    "import matplotlib.pyplot as plt # for generating plots, garphs etc.\n",
    "import seaborn as sns"
   ]
  },
  {
   "cell_type": "code",
   "execution_count": 6,
   "id": "5feb1fe6-3082-4a9f-b9bb-ac8a47ee9e3a",
   "metadata": {},
   "outputs": [
    {
     "name": "stdout",
     "output_type": "stream",
     "text": [
      "<class 'pandas.core.frame.DataFrame'>\n",
      "RangeIndex: 891 entries, 0 to 890\n",
      "Data columns (total 12 columns):\n",
      " #   Column       Non-Null Count  Dtype  \n",
      "---  ------       --------------  -----  \n",
      " 0   PassengerId  891 non-null    int64  \n",
      " 1   Survived     891 non-null    int64  \n",
      " 2   Pclass       891 non-null    int64  \n",
      " 3   Name         891 non-null    object \n",
      " 4   Sex          891 non-null    object \n",
      " 5   Age          714 non-null    float64\n",
      " 6   SibSp        891 non-null    int64  \n",
      " 7   Parch        891 non-null    int64  \n",
      " 8   Ticket       891 non-null    object \n",
      " 9   Fare         891 non-null    float64\n",
      " 10  Cabin        204 non-null    object \n",
      " 11  Embarked     889 non-null    object \n",
      "dtypes: float64(2), int64(5), object(5)\n",
      "memory usage: 83.7+ KB\n"
     ]
    }
   ],
   "source": [
    "# Loading dataset\n",
    "df = pd.read_csv(\"Titanic-Dataset.csv\")\n",
    "df.info() # displays the basic info about the dataset"
   ]
  },
  {
   "cell_type": "code",
   "execution_count": 7,
   "id": "3aaa36aa-975c-41a2-b512-4db9571f080f",
   "metadata": {},
   "outputs": [
    {
     "data": {
      "text/html": [
       "<div>\n",
       "<style scoped>\n",
       "    .dataframe tbody tr th:only-of-type {\n",
       "        vertical-align: middle;\n",
       "    }\n",
       "\n",
       "    .dataframe tbody tr th {\n",
       "        vertical-align: top;\n",
       "    }\n",
       "\n",
       "    .dataframe thead th {\n",
       "        text-align: right;\n",
       "    }\n",
       "</style>\n",
       "<table border=\"1\" class=\"dataframe\">\n",
       "  <thead>\n",
       "    <tr style=\"text-align: right;\">\n",
       "      <th></th>\n",
       "      <th>PassengerId</th>\n",
       "      <th>Survived</th>\n",
       "      <th>Pclass</th>\n",
       "      <th>Name</th>\n",
       "      <th>Sex</th>\n",
       "      <th>Age</th>\n",
       "      <th>SibSp</th>\n",
       "      <th>Parch</th>\n",
       "      <th>Ticket</th>\n",
       "      <th>Fare</th>\n",
       "      <th>Cabin</th>\n",
       "      <th>Embarked</th>\n",
       "    </tr>\n",
       "  </thead>\n",
       "  <tbody>\n",
       "    <tr>\n",
       "      <th>0</th>\n",
       "      <td>1</td>\n",
       "      <td>0</td>\n",
       "      <td>3</td>\n",
       "      <td>Braund, Mr. Owen Harris</td>\n",
       "      <td>male</td>\n",
       "      <td>22.0</td>\n",
       "      <td>1</td>\n",
       "      <td>0</td>\n",
       "      <td>A/5 21171</td>\n",
       "      <td>7.2500</td>\n",
       "      <td>NaN</td>\n",
       "      <td>S</td>\n",
       "    </tr>\n",
       "    <tr>\n",
       "      <th>1</th>\n",
       "      <td>2</td>\n",
       "      <td>1</td>\n",
       "      <td>1</td>\n",
       "      <td>Cumings, Mrs. John Bradley (Florence Briggs Th...</td>\n",
       "      <td>female</td>\n",
       "      <td>38.0</td>\n",
       "      <td>1</td>\n",
       "      <td>0</td>\n",
       "      <td>PC 17599</td>\n",
       "      <td>71.2833</td>\n",
       "      <td>C85</td>\n",
       "      <td>C</td>\n",
       "    </tr>\n",
       "    <tr>\n",
       "      <th>2</th>\n",
       "      <td>3</td>\n",
       "      <td>1</td>\n",
       "      <td>3</td>\n",
       "      <td>Heikkinen, Miss. Laina</td>\n",
       "      <td>female</td>\n",
       "      <td>26.0</td>\n",
       "      <td>0</td>\n",
       "      <td>0</td>\n",
       "      <td>STON/O2. 3101282</td>\n",
       "      <td>7.9250</td>\n",
       "      <td>NaN</td>\n",
       "      <td>S</td>\n",
       "    </tr>\n",
       "    <tr>\n",
       "      <th>3</th>\n",
       "      <td>4</td>\n",
       "      <td>1</td>\n",
       "      <td>1</td>\n",
       "      <td>Futrelle, Mrs. Jacques Heath (Lily May Peel)</td>\n",
       "      <td>female</td>\n",
       "      <td>35.0</td>\n",
       "      <td>1</td>\n",
       "      <td>0</td>\n",
       "      <td>113803</td>\n",
       "      <td>53.1000</td>\n",
       "      <td>C123</td>\n",
       "      <td>S</td>\n",
       "    </tr>\n",
       "    <tr>\n",
       "      <th>4</th>\n",
       "      <td>5</td>\n",
       "      <td>0</td>\n",
       "      <td>3</td>\n",
       "      <td>Allen, Mr. William Henry</td>\n",
       "      <td>male</td>\n",
       "      <td>35.0</td>\n",
       "      <td>0</td>\n",
       "      <td>0</td>\n",
       "      <td>373450</td>\n",
       "      <td>8.0500</td>\n",
       "      <td>NaN</td>\n",
       "      <td>S</td>\n",
       "    </tr>\n",
       "  </tbody>\n",
       "</table>\n",
       "</div>"
      ],
      "text/plain": [
       "   PassengerId  Survived  Pclass  \\\n",
       "0            1         0       3   \n",
       "1            2         1       1   \n",
       "2            3         1       3   \n",
       "3            4         1       1   \n",
       "4            5         0       3   \n",
       "\n",
       "                                                Name     Sex   Age  SibSp  \\\n",
       "0                            Braund, Mr. Owen Harris    male  22.0      1   \n",
       "1  Cumings, Mrs. John Bradley (Florence Briggs Th...  female  38.0      1   \n",
       "2                             Heikkinen, Miss. Laina  female  26.0      0   \n",
       "3       Futrelle, Mrs. Jacques Heath (Lily May Peel)  female  35.0      1   \n",
       "4                           Allen, Mr. William Henry    male  35.0      0   \n",
       "\n",
       "   Parch            Ticket     Fare Cabin Embarked  \n",
       "0      0         A/5 21171   7.2500   NaN        S  \n",
       "1      0          PC 17599  71.2833   C85        C  \n",
       "2      0  STON/O2. 3101282   7.9250   NaN        S  \n",
       "3      0            113803  53.1000  C123        S  \n",
       "4      0            373450   8.0500   NaN        S  "
      ]
     },
     "execution_count": 7,
     "metadata": {},
     "output_type": "execute_result"
    }
   ],
   "source": [
    "df.head() # displays the first few rows"
   ]
  },
  {
   "cell_type": "code",
   "execution_count": 8,
   "id": "52299005-1178-4e0a-bbf3-1f0e9b2313a4",
   "metadata": {},
   "outputs": [
    {
     "data": {
      "text/plain": [
       "PassengerId      0\n",
       "Survived         0\n",
       "Pclass           0\n",
       "Name             0\n",
       "Sex              0\n",
       "Age            177\n",
       "SibSp            0\n",
       "Parch            0\n",
       "Ticket           0\n",
       "Fare             0\n",
       "Cabin          687\n",
       "Embarked         2\n",
       "dtype: int64"
      ]
     },
     "execution_count": 8,
     "metadata": {},
     "output_type": "execute_result"
    }
   ],
   "source": [
    "df.isnull().sum() # this is to see how many missing values are there in each column"
   ]
  },
  {
   "cell_type": "raw",
   "id": "4bc564df-0473-4aa2-ba3d-e8850452e413",
   "metadata": {},
   "source": [
    "from above output it is clear that there are missing values in features like Age (177 missing values) , Cabin (687 missing values) & Embarked (2 missing values)"
   ]
  },
  {
   "cell_type": "code",
   "execution_count": 9,
   "id": "8f37c881-c427-4534-82bc-8d3336fad202",
   "metadata": {},
   "outputs": [
    {
     "data": {
      "text/html": [
       "<div>\n",
       "<style scoped>\n",
       "    .dataframe tbody tr th:only-of-type {\n",
       "        vertical-align: middle;\n",
       "    }\n",
       "\n",
       "    .dataframe tbody tr th {\n",
       "        vertical-align: top;\n",
       "    }\n",
       "\n",
       "    .dataframe thead th {\n",
       "        text-align: right;\n",
       "    }\n",
       "</style>\n",
       "<table border=\"1\" class=\"dataframe\">\n",
       "  <thead>\n",
       "    <tr style=\"text-align: right;\">\n",
       "      <th></th>\n",
       "      <th>Name</th>\n",
       "      <th>Sex</th>\n",
       "      <th>Ticket</th>\n",
       "      <th>Cabin</th>\n",
       "      <th>Embarked</th>\n",
       "    </tr>\n",
       "  </thead>\n",
       "  <tbody>\n",
       "    <tr>\n",
       "      <th>count</th>\n",
       "      <td>891</td>\n",
       "      <td>891</td>\n",
       "      <td>891</td>\n",
       "      <td>204</td>\n",
       "      <td>889</td>\n",
       "    </tr>\n",
       "    <tr>\n",
       "      <th>unique</th>\n",
       "      <td>891</td>\n",
       "      <td>2</td>\n",
       "      <td>681</td>\n",
       "      <td>147</td>\n",
       "      <td>3</td>\n",
       "    </tr>\n",
       "    <tr>\n",
       "      <th>top</th>\n",
       "      <td>Braund, Mr. Owen Harris</td>\n",
       "      <td>male</td>\n",
       "      <td>347082</td>\n",
       "      <td>B96 B98</td>\n",
       "      <td>S</td>\n",
       "    </tr>\n",
       "    <tr>\n",
       "      <th>freq</th>\n",
       "      <td>1</td>\n",
       "      <td>577</td>\n",
       "      <td>7</td>\n",
       "      <td>4</td>\n",
       "      <td>644</td>\n",
       "    </tr>\n",
       "  </tbody>\n",
       "</table>\n",
       "</div>"
      ],
      "text/plain": [
       "                           Name   Sex  Ticket    Cabin Embarked\n",
       "count                       891   891     891      204      889\n",
       "unique                      891     2     681      147        3\n",
       "top     Braund, Mr. Owen Harris  male  347082  B96 B98        S\n",
       "freq                          1   577       7        4      644"
      ]
     },
     "execution_count": 9,
     "metadata": {},
     "output_type": "execute_result"
    }
   ],
   "source": [
    "# extracting the statistical summary of both numerical and categorical features\n",
    "\n",
    "df.describe() # for numerical features\n",
    "df.describe(include='object') # for categorical features\n"
   ]
  },
  {
   "cell_type": "code",
   "execution_count": 10,
   "id": "bfa4ca53-d242-4deb-9b6d-a87db83b439f",
   "metadata": {},
   "outputs": [
    {
     "data": {
      "text/plain": [
       "0"
      ]
     },
     "execution_count": 10,
     "metadata": {},
     "output_type": "execute_result"
    }
   ],
   "source": [
    "# Checking for duplicates\n",
    "df.duplicated().sum()"
   ]
  },
  {
   "cell_type": "markdown",
   "id": "3f2045b4-e5fe-45fa-991f-674bcf5cb0f6",
   "metadata": {},
   "source": [
    "### Data Visualization (EDA)\n",
    "We will be exploring the dataset visually using various plots and graphs and observe insights"
   ]
  },
  {
   "cell_type": "code",
   "execution_count": 11,
   "id": "61f05833-19e9-4c0c-9b98-bc10c4e40e45",
   "metadata": {},
   "outputs": [
    {
     "name": "stderr",
     "output_type": "stream",
     "text": [
      "C:\\Users\\aabin\\AppData\\Local\\Temp\\ipykernel_15216\\799067254.py:2: FutureWarning: \n",
      "\n",
      "Passing `palette` without assigning `hue` is deprecated and will be removed in v0.14.0. Assign the `x` variable to `hue` and set `legend=False` for the same effect.\n",
      "\n",
      "  sns.countplot(x=df[\"Survived\"], palette=\"coolwarm\")\n"
     ]
    },
    {
     "data": {
      "image/png": "[encoded data removed]",
      "text/plain": [
       "<Figure size 640x480 with 1 Axes>"
      ]
     },
     "metadata": {},
     "output_type": "display_data"
    }
   ],
   "source": [
    "# creating a Countplot for checking the survival rate\n",
    "sns.countplot(x=df[\"Survived\"], palette=\"coolwarm\")\n",
    "plt.title(\"Survival Distribution\")\n",
    "plt.show()\n",
    "\n",
    "# Number of people who survived is lesser compared to people who didn't survive"
   ]
  },
  {
   "cell_type": "raw",
   "id": "241018eb-bf8f-47f5-9b35-e42254eb1d76",
   "metadata": {},
   "source": []
  },
  {
   "cell_type": "code",
   "execution_count": 12,
   "id": "638ec897-9778-4945-a51c-2a54a29f0110",
   "metadata": {},
   "outputs": [
    {
     "data": {
      "image/png": "[encoded data removed]",
      "text/plain": [
       "<Figure size 640x480 with 1 Axes>"
      ]
     },
     "metadata": {},
     "output_type": "display_data"
    }
   ],
   "source": [
    "# creating a Countplot to check survival rate based on gender\n",
    "sns.countplot(x=\"Sex\", hue=\"Survived\", data=df, palette=\"coolwarm\")\n",
    "plt.title(\"Survival Rate by Gender\")\n",
    "plt.show()\n",
    "\n",
    "# Survival rate of women are higher than that of men"
   ]
  },
  {
   "cell_type": "raw",
   "id": "745d1a3e-5dae-4a3d-840f-5dd99f849d00",
   "metadata": {},
   "source": []
  },
  {
   "cell_type": "code",
   "execution_count": 13,
   "id": "d742a449-a50d-405d-9c42-8421e4b5dd76",
   "metadata": {},
   "outputs": [
    {
     "data": {
      "image/png": "[encoded data removed]",
      "text/plain": [
       "<Figure size 640x480 with 1 Axes>"
      ]
     },
     "metadata": {},
     "output_type": "display_data"
    }
   ],
   "source": [
    "# Survival rate based on Passenger Class\n",
    "sns.countplot(x=\"Pclass\", hue=\"Survived\", data=df, palette=\"coolwarm\")\n",
    "plt.title(\"Survival Rate by Passenger Class\")\n",
    "plt.show()\n",
    "\n",
    "# Survival rate of first class passengers are higher than other classes \n",
    "# Survival rate of Third class passengers are very low "
   ]
  },
  {
   "cell_type": "raw",
   "id": "834b022f-06f2-4e0b-88c2-43a29bdd3739",
   "metadata": {},
   "source": []
  },
  {
   "cell_type": "code",
   "execution_count": 14,
   "id": "1cfc8917-f5d6-4dd5-a60e-64287fe5c9e2",
   "metadata": {},
   "outputs": [
    {
     "data": {
      "image/png": "[encoded data removed]",
      "text/plain": [
       "<Figure size 800x500 with 1 Axes>"
      ]
     },
     "metadata": {},
     "output_type": "display_data"
    }
   ],
   "source": [
    "# Analyzing numerical features Age and Fare using histograms and box plots\n",
    "\n",
    "# Age distribution\n",
    "plt.figure(figsize=(8,5))\n",
    "sns.histplot(df[\"Age\"].dropna(), bins=30, kde=True, color=\"skyblue\") # dropna() ensures we don't plot any missing values\n",
    "plt.title(\"Age Distribution\")\n",
    "plt.xlabel(\"Age\")\n",
    "plt.ylabel(\"Count\")\n",
    "plt.show()\n",
    "\n",
    "# Most people are around the age group of 20-30"
   ]
  },
  {
   "cell_type": "code",
   "execution_count": 15,
   "id": "93bd6d6f-acfc-41a3-bb3b-4213721409fa",
   "metadata": {},
   "outputs": [
    {
     "name": "stderr",
     "output_type": "stream",
     "text": [
      "C:\\Users\\aabin\\AppData\\Local\\Temp\\ipykernel_15216\\2972698770.py:3: FutureWarning: \n",
      "\n",
      "Passing `palette` without assigning `hue` is deprecated and will be removed in v0.14.0. Assign the `x` variable to `hue` and set `legend=False` for the same effect.\n",
      "\n",
      "  sns.boxplot(x=\"Survived\", y=\"Age\", data=df, palette=\"coolwarm\")\n"
     ]
    },
    {
     "data": {
      "image/png": "[encoded data removed]",
      "text/plain": [
       "<Figure size 800x500 with 1 Axes>"
      ]
     },
     "metadata": {},
     "output_type": "display_data"
    }
   ],
   "source": [
    "# Age vs Survival\n",
    "plt.figure(figsize=(8,5))\n",
    "sns.boxplot(x=\"Survived\", y=\"Age\", data=df, palette=\"coolwarm\")\n",
    "plt.title(\"Age vs. Survival\")\n",
    "plt.show()\n",
    "\n",
    "# Younger passengers are more likely to survive"
   ]
  },
  {
   "cell_type": "code",
   "execution_count": 16,
   "id": "0295ff45-005c-4fb8-b0fb-03a7e1cdf4ba",
   "metadata": {},
   "outputs": [
    {
     "data": {
      "image/png": "[encoded data removed]",
      "text/plain": [
       "<Figure size 800x500 with 1 Axes>"
      ]
     },
     "metadata": {},
     "output_type": "display_data"
    }
   ],
   "source": [
    "# Fare distribution\n",
    "plt.figure(figsize=(8,5))\n",
    "sns.histplot(df[\"Fare\"], bins=30, kde=\"True\", color= \"lightcoral\")\n",
    "plt.title(\"Fare distribution\")\n",
    "plt.xlabel(\"Fare\")\n",
    "plt.ylabel(\"Count\")\n",
    "plt.show()\n",
    "\n",
    "# this will help us see if some passengers paid significantly higher fares "
   ]
  },
  {
   "cell_type": "code",
   "execution_count": 17,
   "id": "3d30518e-aa70-4d7d-ad08-f7b00e0d05e7",
   "metadata": {},
   "outputs": [
    {
     "name": "stderr",
     "output_type": "stream",
     "text": [
      "C:\\Users\\aabin\\AppData\\Local\\Temp\\ipykernel_15216\\971221569.py:3: FutureWarning: \n",
      "\n",
      "Passing `palette` without assigning `hue` is deprecated and will be removed in v0.14.0. Assign the `x` variable to `hue` and set `legend=False` for the same effect.\n",
      "\n",
      "  sns.boxplot(x=\"Survived\", y=\"Fare\", data=df, palette='coolwarm')\n"
     ]
    },
    {
     "data": {
      "image/png": "[encoded data removed]",
      "text/plain": [
       "<Figure size 800x500 with 1 Axes>"
      ]
     },
     "metadata": {},
     "output_type": "display_data"
    }
   ],
   "source": [
    "# Fare vs Survival\n",
    "plt.figure(figsize=(8,5))\n",
    "sns.boxplot(x=\"Survived\", y=\"Fare\", data=df, palette='coolwarm')\n",
    "plt.ylim(0,300) # to handle ouliers\n",
    "plt.title(\"Fare vs. Survival\")\n",
    "plt.show()\n",
    "\n",
    "# higher fares may be linked to survival since higher-class passengers had better access to lifeboats"
   ]
  },
  {
   "cell_type": "markdown",
   "id": "d346ff68-5afd-4e44-a5a7-630d53d8d785",
   "metadata": {},
   "source": [
    "### Feature Engineering\n",
    "Now we will perform feature engineering where we clean and transform the dataset\n",
    "for model building "
   ]
  },
  {
   "cell_type": "code",
   "execution_count": 20,
   "id": "6a26826d-6563-4150-8b9a-6028d92bc2c6",
   "metadata": {},
   "outputs": [],
   "source": [
    "# Handling Missing Values \n",
    "''' After we loaded the dataset and tried to understand the dataset and we came to know \n",
    "that there were  missing values in features like Age, Cabin and Embarked\n",
    "so we try to identify these missing values and handle them.'''\n",
    "\n",
    "# Replacing missing age values with median age per Pclass & Sex\n",
    "df[\"Age\"] = df[\"Age\"].fillna(df.groupby([\"Pclass\",\"Sex\"])[\"Age\"].transform(\"median\"))"
   ]
  },
  {
   "cell_type": "code",
   "execution_count": 21,
   "id": "c6396b0e-a902-4946-bd7f-e728db4f00fe",
   "metadata": {},
   "outputs": [
    {
     "name": "stderr",
     "output_type": "stream",
     "text": [
      "C:\\Users\\aabin\\AppData\\Local\\Temp\\ipykernel_15216\\2982389149.py:2: FutureWarning: A value is trying to be set on a copy of a DataFrame or Series through chained assignment using an inplace method.\n",
      "The behavior will change in pandas 3.0. This inplace method will never work because the intermediate object on which we are setting values always behaves as a copy.\n",
      "\n",
      "For example, when doing 'df[col].method(value, inplace=True)', try using 'df.method({col: value}, inplace=True)' or df[col] = df[col].method(value) instead, to perform the operation inplace on the original object.\n",
      "\n",
      "\n",
      "  df[\"Embarked\"].fillna(df[\"Embarked\"].mode()[0], inplace=True)\n"
     ]
    }
   ],
   "source": [
    "# Fill missing Embarked values with the mode\n",
    "df[\"Embarked\"].fillna(df[\"Embarked\"].mode()[0], inplace=True)"
   ]
  },
  {
   "cell_type": "code",
   "execution_count": 22,
   "id": "52e0ccda-89c3-47e6-bf40-62b3243d6d5c",
   "metadata": {},
   "outputs": [],
   "source": [
    "# We will drop the Cabin column since it is mostly empty (around 687 values are missing)\n",
    "df.drop(columns=[\"Cabin\"], inplace=True)"
   ]
  },
  {
   "cell_type": "code",
   "execution_count": 23,
   "id": "12bea688-fee9-4207-a86d-43cd3e92dbc3",
   "metadata": {},
   "outputs": [],
   "source": [
    "# Convert categorical variables into numeric format\n",
    "''' ML Models don't work with text values, so we will convert Sex and Embarked \n",
    "into numerical values '''\n",
    "df[\"Sex\"] = df[\"Sex\"].map({\"male\":0, \"female\":1}) # encoding gender\n",
    "df = pd.get_dummies(df, columns=[\"Embarked\"],drop_first=True) # one-hot encoding Embarked"
   ]
  },
  {
   "cell_type": "code",
   "execution_count": 24,
   "id": "31a20206-a981-4709-aa11-1c0afcfc3441",
   "metadata": {},
   "outputs": [],
   "source": [
    "# Drop Unnecessary columns\n",
    "df.drop(columns=[\"PassengerId\",\"Name\",\"Ticket\"], inplace=True)"
   ]
  },
  {
   "cell_type": "code",
   "execution_count": 25,
   "id": "446bc976-d15f-449e-8967-d93b267337b9",
   "metadata": {},
   "outputs": [
    {
     "data": {
      "text/plain": [
       "Survived      0\n",
       "Pclass        0\n",
       "Sex           0\n",
       "Age           0\n",
       "SibSp         0\n",
       "Parch         0\n",
       "Fare          0\n",
       "Embarked_Q    0\n",
       "Embarked_S    0\n",
       "dtype: int64"
      ]
     },
     "execution_count": 25,
     "metadata": {},
     "output_type": "execute_result"
    }
   ],
   "source": [
    "df.isnull().sum() # Final check for any missing values"
   ]
  },
  {
   "cell_type": "markdown",
   "id": "ee757348-b748-447b-afbe-f2bd147737de",
   "metadata": {},
   "source": [
    "### Splitting Data for Training and Testing\n",
    "Before building the model, we need to:\n",
    "* Seperate the target variable (Survived).\n",
    "* Split the dataset into training and testing sets."
   ]
  },
  {
   "cell_type": "code",
   "execution_count": 27,
   "id": "e970931a-7368-4787-ad46-9ec7abde7894",
   "metadata": {},
   "outputs": [
    {
     "data": {
      "text/plain": [
       "((712, 8), (179, 8), (712,), (179,))"
      ]
     },
     "execution_count": 27,
     "metadata": {},
     "output_type": "execute_result"
    }
   ],
   "source": [
    "from sklearn.model_selection import train_test_split\n",
    "\n",
    "# Define features (X) and target variable (Y) \n",
    "X = df.drop(columns=[\"Survived\"]) # the target is dropped so remaining are the independent features \n",
    "y = df[\"Survived\"] # Target variable\n",
    "\n",
    "# Split into train (80%) and test (20%) sets\n",
    "X_train, X_test, y_train, y_test = train_test_split(X, y, test_size=0.2, random_state=42, stratify=y)\n",
    "\n",
    "# Check the shape of datasets\n",
    "X_train.shape, X_test.shape, y_train.shape, y_test.shape"
   ]
  },
  {
   "cell_type": "code",
   "execution_count": 29,
   "id": "16d87cba-765f-4a20-81e9-727be9e7e23b",
   "metadata": {},
   "outputs": [
    {
     "name": "stdout",
     "output_type": "stream",
     "text": [
      "Accuracy: 0.8156424581005587\n",
      "Classification Report:\n",
      "               precision    recall  f1-score   support\n",
      "\n",
      "           0       0.82      0.89      0.86       110\n",
      "           1       0.80      0.70      0.74        69\n",
      "\n",
      "    accuracy                           0.82       179\n",
      "   macro avg       0.81      0.79      0.80       179\n",
      "weighted avg       0.81      0.82      0.81       179\n",
      "\n"
     ]
    },
    {
     "name": "stderr",
     "output_type": "stream",
     "text": [
      "C:\\Users\\aabin\\anaconda3\\Lib\\site-packages\\sklearn\\linear_model\\_logistic.py:460: ConvergenceWarning: lbfgs failed to converge (status=1):\n",
      "STOP: TOTAL NO. of ITERATIONS REACHED LIMIT.\n",
      "\n",
      "Increase the number of iterations (max_iter) or scale the data as shown in:\n",
      "    https://scikit-learn.org/stable/modules/preprocessing.html\n",
      "Please also refer to the documentation for alternative solver options:\n",
      "    https://scikit-learn.org/stable/modules/linear_model.html#logistic-regression\n",
      "  n_iter_i = _check_optimize_result(\n"
     ]
    }
   ],
   "source": [
    "# Training a Machine Learning Model\n",
    "''' We will be using the Logistic Regression Model, a simple and effective model for classification '''\n",
    "from sklearn.linear_model import LogisticRegression\n",
    "from sklearn.metrics import accuracy_score, classification_report\n",
    "\n",
    "# Initialize the model\n",
    "model = LogisticRegression(max_iter=200)\n",
    "\n",
    "# Train the model\n",
    "model.fit(X_train, y_train)\n",
    "\n",
    "# Predict on the test set\n",
    "y_pred = model.predict(X_test)\n",
    "\n",
    "# Evaluate the model\n",
    "print(\"Accuracy:\",accuracy_score(y_test, y_pred))\n",
    "print(\"Classification Report:\\n\", classification_report(y_test, y_pred))"
   ]
  },
  {
   "cell_type": "code",
   "execution_count": 30,
   "id": "a6488ec6-4bc2-46ff-9bb4-90dbc8610813",
   "metadata": {},
   "outputs": [
    {
     "name": "stdout",
     "output_type": "stream",
     "text": [
      "Decision Tree Accuracy: 0.776536312849162\n",
      "Classification Report:\n",
      "               precision    recall  f1-score   support\n",
      "\n",
      "           0       0.79      0.87      0.83       110\n",
      "           1       0.75      0.62      0.68        69\n",
      "\n",
      "    accuracy                           0.78       179\n",
      "   macro avg       0.77      0.75      0.76       179\n",
      "weighted avg       0.77      0.78      0.77       179\n",
      "\n"
     ]
    }
   ],
   "source": [
    "# Building a Decision Tree Model\n",
    "from sklearn.tree import DecisionTreeClassifier\n",
    "\n",
    "# Initialize and train the model\n",
    "dt_model = DecisionTreeClassifier(max_depth=5, random_state=42)\n",
    "dt_model.fit(X_train, y_train)\n",
    "\n",
    "# Predict & evaluate\n",
    "y_pred_dt = dt_model.predict(X_test)\n",
    "print(\"Decision Tree Accuracy:\", accuracy_score(y_test, y_pred_dt))\n",
    "print(\"Classification Report:\\n\", classification_report(y_test, y_pred_dt))\n"
   ]
  },
  {
   "cell_type": "code",
   "execution_count": 31,
   "id": "32530b4f-5e81-42c3-ad67-17a543df3576",
   "metadata": {},
   "outputs": [
    {
     "name": "stdout",
     "output_type": "stream",
     "text": [
      "Random Forest Accuracy: 0.7988826815642458\n",
      "Classification Report:\n",
      "               precision    recall  f1-score   support\n",
      "\n",
      "           0       0.82      0.86      0.84       110\n",
      "           1       0.76      0.70      0.73        69\n",
      "\n",
      "    accuracy                           0.80       179\n",
      "   macro avg       0.79      0.78      0.78       179\n",
      "weighted avg       0.80      0.80      0.80       179\n",
      "\n"
     ]
    }
   ],
   "source": [
    "# Building a Random Forest Model\n",
    "from sklearn.ensemble import RandomForestClassifier\n",
    "\n",
    "# Initialize and train the model\n",
    "rf_model = RandomForestClassifier(n_estimators=100, random_state=42)\n",
    "rf_model.fit(X_train, y_train)\n",
    "\n",
    "# Predict & evaluate\n",
    "y_pred_rf = rf_model.predict(X_test)\n",
    "print(\"Random Forest Accuracy:\", accuracy_score(y_test, y_pred_rf))\n",
    "print(\"Classification Report:\\n\", classification_report(y_test, y_pred_rf))\n"
   ]
  },
  {
   "cell_type": "raw",
   "id": "1d68c22a-2916-447a-a21e-4191d66ef356",
   "metadata": {},
   "source": [
    "OBSERVATIONS: \n",
    "\n",
    "Comparing the accuracies of the 3 Models:\n",
    "Logistic Regression - 81.56%\n",
    "Decision Tree - 77.65%\n",
    "Random Forest - 79.88%\n",
    "\n",
    "So currently Logistic Regression is giving the best performance,\n",
    "Decision tree performed the worst likely due to overfitting or not being deep enough,\n",
    "Random Forest performed better than Decision Tree, but still worse than Logistoc Regression, it may need  hypermeter tuning to improve"
   ]
  },
  {
   "cell_type": "code",
   "execution_count": 36,
   "id": "40343058-099f-440c-a60b-e9b72ae4afeb",
   "metadata": {},
   "outputs": [
    {
     "name": "stdout",
     "output_type": "stream",
     "text": [
      "Tuned Random Forest Accuracy: 0.8100558659217877\n",
      "Best Parameters: {'n_estimators': 150, 'min_samples_split': 10, 'min_samples_leaf': 4, 'max_depth': 5}\n",
      "Classification Report:\n",
      "               precision    recall  f1-score   support\n",
      "\n",
      "           0       0.79      0.94      0.86       110\n",
      "           1       0.86      0.61      0.71        69\n",
      "\n",
      "    accuracy                           0.81       179\n",
      "   macro avg       0.82      0.77      0.79       179\n",
      "weighted avg       0.82      0.81      0.80       179\n",
      "\n"
     ]
    }
   ],
   "source": [
    "from sklearn.model_selection import RandomizedSearchCV\n",
    "import numpy as np\n",
    "\n",
    "param_dist = {\n",
    "    \"n_estimators\": np.arange(50, 300, 50),  # Random values in steps of 50\n",
    "    \"max_depth\": [5, 10, 15, None],  # Include None for unlimited depth\n",
    "    \"min_samples_split\": [2, 5, 10],\n",
    "    \"min_samples_leaf\": [1, 2, 4]\n",
    "}\n",
    "\n",
    "random_search = RandomizedSearchCV(\n",
    "    RandomForestClassifier(random_state=42),\n",
    "    param_dist,\n",
    "    n_iter=10,  # Only test 10 random parameter sets (faster)\n",
    "    cv=3,\n",
    "    n_jobs=-1,\n",
    "    scoring=\"accuracy\",\n",
    "    random_state=42\n",
    ")\n",
    "\n",
    "random_search.fit(X_train, y_train)\n",
    "\n",
    "# Best model\n",
    "best_rf = random_search.best_estimator_\n",
    "y_pred_best_rf = best_rf.predict(X_test)\n",
    "\n",
    "print(\"Tuned Random Forest Accuracy:\", accuracy_score(y_test, y_pred_best_rf))\n",
    "print(\"Best Parameters:\", random_search.best_params_)\n",
    "print(\"Classification Report:\\n\", classification_report(y_test, y_pred_best_rf))\n"
   ]
  },
  {
   "cell_type": "raw",
   "id": "778d53a1-6818-49ec-89a1-78b29583ef49",
   "metadata": {},
   "source": [
    "OBSERVATION:\n",
    "\n",
    "Tuned Random Forest model achieved 81% accuracy, which is now comparable to Logistic Regression (81.56%) but with a slightly better balance in precision & recall."
   ]
  },
  {
   "cell_type": "markdown",
   "id": "0fa0e8f3-a145-445b-9751-73fafe58978b",
   "metadata": {},
   "source": [
    "### Saving the Trained Model"
   ]
  },
  {
   "cell_type": "code",
   "execution_count": 37,
   "id": "dc949c33-cf9a-439d-85af-ef5f1c95d146",
   "metadata": {},
   "outputs": [
    {
     "name": "stdout",
     "output_type": "stream",
     "text": [
      "Model saved as titanic_rf_model.pkl\n"
     ]
    }
   ],
   "source": [
    "import joblib\n",
    "\n",
    "# Save the best Random Forest model\n",
    "joblib.dump(best_rf, \"titanic_rf_model.pkl\")\n",
    "print(\"Model saved as titanic_rf_model.pkl\")"
   ]
  },
  {
   "cell_type": "code",
   "execution_count": 38,
   "id": "d1db6a29-64a8-41b4-be5e-548f88b3a5bc",
   "metadata": {},
   "outputs": [
    {
     "name": "stdout",
     "output_type": "stream",
     "text": [
      "Cleaned dataset saved as titanic_cleaned.csv\n"
     ]
    }
   ],
   "source": [
    "# Saving the preprocessed Dataset\n",
    "df.to_csv(\"titanic_cleaned.csv\", index=False)\n",
    "print(\"Cleaned dataset saved as titanic_cleaned.csv\")"
   ]
  },
  {
   "cell_type": "code",
   "execution_count": null,
   "id": "3822c9d3-93d4-4348-a1b8-3a604d6293b6",
   "metadata": {},
   "outputs": [],
   "source": []
  }
 ],
 "metadata": {
  "kernelspec": {
   "display_name": "Python 3 (ipykernel)",
   "language": "python",
   "name": "python3"
  },
  "language_info": {
   "codemirror_mode": {
    "name": "ipython",
    "version": 3
   },
   "file_extension": ".py",
   "mimetype": "text/x-python",
   "name": "python",
   "nbconvert_exporter": "python",
   "pygments_lexer": "ipython3",
   "version": "3.12.7"
  }
 },
 "nbformat": 4,
 "nbformat_minor": 5
}
